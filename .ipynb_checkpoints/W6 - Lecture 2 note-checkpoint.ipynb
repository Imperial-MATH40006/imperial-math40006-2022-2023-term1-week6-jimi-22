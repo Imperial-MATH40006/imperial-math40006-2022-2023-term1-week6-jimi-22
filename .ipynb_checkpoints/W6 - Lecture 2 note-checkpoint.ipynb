{
 "cells": [
  {
   "cell_type": "markdown",
   "id": "ad624dff",
   "metadata": {},
   "source": [
    "# Lecture"
   ]
  },
  {
   "cell_type": "markdown",
   "id": "1b38b73c",
   "metadata": {},
   "source": [
    "## 2.1 Types of Number"
   ]
  },
  {
   "cell_type": "code",
   "execution_count": 3,
   "id": "cc291011",
   "metadata": {},
   "outputs": [
    {
     "data": {
      "text/plain": [
       "1.7320508075688772"
      ]
     },
     "execution_count": 3,
     "metadata": {},
     "output_type": "execute_result"
    }
   ],
   "source": [
    "from math import * \n",
    "sqrt(3)"
   ]
  },
  {
   "cell_type": "code",
   "execution_count": 5,
   "id": "e55ae5fc",
   "metadata": {},
   "outputs": [
    {
     "data": {
      "text/plain": [
       "2141958"
      ]
     },
     "execution_count": 5,
     "metadata": {},
     "output_type": "execute_result"
    }
   ],
   "source": [
    "from builtins import pow\n",
    "pow(98723276, 749292737, 4820474)"
   ]
  },
  {
   "cell_type": "code",
   "execution_count": 7,
   "id": "50b32fda",
   "metadata": {},
   "outputs": [
    {
     "data": {
      "text/plain": [
       "1.7320508075688772"
      ]
     },
     "execution_count": 7,
     "metadata": {},
     "output_type": "execute_result"
    }
   ],
   "source": [
    "# other method\n",
    "import math\n",
    "math.sqrt(3)\n",
    "# import module name\n",
    "# write as module name.math function "
   ]
  },
  {
   "cell_type": "code",
   "execution_count": 8,
   "id": "fd6fc75c",
   "metadata": {},
   "outputs": [
    {
     "data": {
      "text/plain": [
       "1352773"
      ]
     },
     "execution_count": 8,
     "metadata": {},
     "output_type": "execute_result"
    }
   ],
   "source": [
    "pow(17473,183574,2894747)"
   ]
  },
  {
   "cell_type": "code",
   "execution_count": 9,
   "id": "1c1b6664",
   "metadata": {},
   "outputs": [
    {
     "ename": "NameError",
     "evalue": "name 'd' is not defined",
     "output_type": "error",
     "traceback": [
      "\u001b[0;31m---------------------------------------------------------------------------\u001b[0m",
      "\u001b[0;31mNameError\u001b[0m                                 Traceback (most recent call last)",
      "\u001b[0;32m/var/folders/jc/40p27jw150s9901t60pghgkh0000gn/T/ipykernel_77807/991040657.py\u001b[0m in \u001b[0;36m<module>\u001b[0;34m\u001b[0m\n\u001b[0;32m----> 1\u001b[0;31m \u001b[0msqrt\u001b[0m\u001b[0;34m(\u001b[0m\u001b[0md\u001b[0m\u001b[0;34m)\u001b[0m\u001b[0;34m\u001b[0m\u001b[0;34m\u001b[0m\u001b[0m\n\u001b[0m",
      "\u001b[0;31mNameError\u001b[0m: name 'd' is not defined"
     ]
    }
   ],
   "source": [
    "sqrt(d)\n",
    "# error message"
   ]
  },
  {
   "cell_type": "code",
   "execution_count": 11,
   "id": "60b994e3",
   "metadata": {},
   "outputs": [
    {
     "ename": "ValueError",
     "evalue": "math domain error",
     "output_type": "error",
     "traceback": [
      "\u001b[0;31m---------------------------------------------------------------------------\u001b[0m",
      "\u001b[0;31mValueError\u001b[0m                                Traceback (most recent call last)",
      "\u001b[0;32m/var/folders/jc/40p27jw150s9901t60pghgkh0000gn/T/ipykernel_77807/3689381121.py\u001b[0m in \u001b[0;36m<module>\u001b[0;34m\u001b[0m\n\u001b[0;32m----> 1\u001b[0;31m \u001b[0msqrt\u001b[0m\u001b[0;34m(\u001b[0m\u001b[0;34m-\u001b[0m\u001b[0;36m4\u001b[0m\u001b[0;34m)\u001b[0m\u001b[0;34m\u001b[0m\u001b[0;34m\u001b[0m\u001b[0m\n\u001b[0m\u001b[1;32m      2\u001b[0m \u001b[0;31m# error message\u001b[0m\u001b[0;34m\u001b[0m\u001b[0;34m\u001b[0m\u001b[0m\n",
      "\u001b[0;31mValueError\u001b[0m: math domain error"
     ]
    }
   ],
   "source": [
    "sqrt(-4) \n",
    "# error message"
   ]
  },
  {
   "cell_type": "code",
   "execution_count": 66,
   "id": "959fa374",
   "metadata": {},
   "outputs": [
    {
     "data": {
      "text/plain": [
       "0.8333333333333334"
      ]
     },
     "execution_count": 66,
     "metadata": {},
     "output_type": "execute_result"
    }
   ],
   "source": [
    "1/1.2"
   ]
  },
  {
   "cell_type": "code",
   "execution_count": 67,
   "id": "b0cab69c",
   "metadata": {},
   "outputs": [
    {
     "name": "stdout",
     "output_type": "stream",
     "text": [
      "1e-08\n"
     ]
    }
   ],
   "source": [
    "x = 1e-8 # 1 * 10^(-8)\n",
    "print(x)"
   ]
  },
  {
   "cell_type": "code",
   "execution_count": 12,
   "id": "edb5358a",
   "metadata": {},
   "outputs": [
    {
     "data": {
      "text/plain": [
       "2j"
      ]
     },
     "execution_count": 12,
     "metadata": {},
     "output_type": "execute_result"
    }
   ],
   "source": [
    "from cmath import sqrt\n",
    "# import imaginary part\n",
    "sqrt(-4)"
   ]
  },
  {
   "cell_type": "code",
   "execution_count": 14,
   "id": "5baab3e1",
   "metadata": {},
   "outputs": [],
   "source": [
    "int1= 345\n",
    "int2 =456"
   ]
  },
  {
   "cell_type": "code",
   "execution_count": 15,
   "id": "6d21041c",
   "metadata": {},
   "outputs": [
    {
     "data": {
      "text/plain": [
       "157320"
      ]
     },
     "execution_count": 15,
     "metadata": {},
     "output_type": "execute_result"
    }
   ],
   "source": [
    "int1 * int2"
   ]
  },
  {
   "cell_type": "code",
   "execution_count": 16,
   "id": "ec308fb1",
   "metadata": {},
   "outputs": [
    {
     "data": {
      "text/plain": [
       "175997846325664414674033971221357038437100610683785278935124804372532066975586932193074848841571385156634464927524415914501124164662661610514792304933341562553077397208470877657944781167368395627267272569062015761487146937633581777327692566969482497081923341439823184421944047618603959085124655531858107978213756651321799166210291726016424664311769633515840340185581131690857712762884024277631256739521471900476541847916100560762473933684719315854353631007339600925268320502339335235730095754949540415189583583861365862183870169352228740643959502746221703078702615184017897811889039124393312476902627795158030130696671352952259612681608875244926028792875699055361366841804170365821665336291970970327180380937904999042038062050011114013611228895808308263958997030599603071492301938672320877599032062736501334711734635514435355967190853485482034749594613456672614497180521111036775072408110223718920315175719415479300773966855100905561678079659419062252089370289047985438776560274834904757006575847822270393011200175825049220741280560153565488787292726283534749796495191833357791865544606786478268218119460474603948083906213017968411804758943617343902587890625"
      ]
     },
     "execution_count": 16,
     "metadata": {},
     "output_type": "execute_result"
    }
   ],
   "source": [
    "int1**int2"
   ]
  },
  {
   "cell_type": "code",
   "execution_count": 21,
   "id": "dcab2aea",
   "metadata": {},
   "outputs": [],
   "source": [
    "float1=345.0\n",
    "float2=456.0\n",
    "float3=23.456"
   ]
  },
  {
   "cell_type": "code",
   "execution_count": 23,
   "id": "aadc99f8",
   "metadata": {},
   "outputs": [
    {
     "data": {
      "text/plain": [
       "False"
      ]
     },
     "execution_count": 23,
     "metadata": {},
     "output_type": "execute_result"
    }
   ],
   "source": [
    "float1 == float2\n",
    "# == equal"
   ]
  },
  {
   "cell_type": "code",
   "execution_count": 26,
   "id": "c2b463c3",
   "metadata": {},
   "outputs": [
    {
     "data": {
      "text/plain": [
       "float"
      ]
     },
     "execution_count": 26,
     "metadata": {},
     "output_type": "execute_result"
    }
   ],
   "source": [
    "type(float1)"
   ]
  },
  {
   "cell_type": "code",
   "execution_count": 24,
   "id": "5ab9c5f6",
   "metadata": {},
   "outputs": [],
   "source": [
    "# float (numbers of decimal)"
   ]
  },
  {
   "cell_type": "code",
   "execution_count": 28,
   "id": "f38c38c8",
   "metadata": {},
   "outputs": [
    {
     "data": {
      "text/plain": [
       "1.3825368655381606e+32"
      ]
     },
     "execution_count": 28,
     "metadata": {},
     "output_type": "execute_result"
    }
   ],
   "source": [
    "float3**float3"
   ]
  },
  {
   "cell_type": "code",
   "execution_count": 31,
   "id": "353e447a",
   "metadata": {},
   "outputs": [
    {
     "ename": "OverflowError",
     "evalue": "(34, 'Result too large')",
     "output_type": "error",
     "traceback": [
      "\u001b[0;31m---------------------------------------------------------------------------\u001b[0m",
      "\u001b[0;31mOverflowError\u001b[0m                             Traceback (most recent call last)",
      "\u001b[0;32m/var/folders/jc/40p27jw150s9901t60pghgkh0000gn/T/ipykernel_77807/3821558858.py\u001b[0m in \u001b[0;36m<module>\u001b[0;34m\u001b[0m\n\u001b[0;32m----> 1\u001b[0;31m \u001b[0mfloat1\u001b[0m\u001b[0;34m**\u001b[0m\u001b[0mfloat2\u001b[0m\u001b[0;34m\u001b[0m\u001b[0;34m\u001b[0m\u001b[0m\n\u001b[0m\u001b[1;32m      2\u001b[0m \u001b[0;31m# too large size -> not fit into the memory\u001b[0m\u001b[0;34m\u001b[0m\u001b[0;34m\u001b[0m\u001b[0m\n",
      "\u001b[0;31mOverflowError\u001b[0m: (34, 'Result too large')"
     ]
    }
   ],
   "source": [
    "float1**float2\n",
    "# too large size -> not fit into the memory"
   ]
  },
  {
   "cell_type": "code",
   "execution_count": 7,
   "id": "8dfdd6fb",
   "metadata": {},
   "outputs": [
    {
     "name": "stdout",
     "output_type": "stream",
     "text": [
      "(6+1.4j)\n"
     ]
    }
   ],
   "source": [
    "comp1 = 2-1j\n",
    "comp2 = 2.4 - 4j\n",
    "comp3 = complex(comp1, comp2)\n",
    "## what is complex()? \n",
    "print(comp3)"
   ]
  },
  {
   "cell_type": "code",
   "execution_count": 1,
   "id": "8c24dcff",
   "metadata": {},
   "outputs": [],
   "source": [
    "comp1 = 2-1j\n",
    "comp2 = 2.4-4j"
   ]
  },
  {
   "cell_type": "code",
   "execution_count": 33,
   "id": "08c29125",
   "metadata": {},
   "outputs": [],
   "source": [
    "comp3 = complex(float1, float2)"
   ]
  },
  {
   "cell_type": "code",
   "execution_count": 34,
   "id": "8cb8cf50",
   "metadata": {},
   "outputs": [],
   "source": [
    "comp4 = complex(int1, int2)"
   ]
  },
  {
   "cell_type": "code",
   "execution_count": 35,
   "id": "e84d4a42",
   "metadata": {},
   "outputs": [
    {
     "data": {
      "text/plain": [
       "True"
      ]
     },
     "execution_count": 35,
     "metadata": {},
     "output_type": "execute_result"
    }
   ],
   "source": [
    "comp3 == comp4"
   ]
  },
  {
   "cell_type": "code",
   "execution_count": 36,
   "id": "2c2c489c",
   "metadata": {},
   "outputs": [],
   "source": [
    "## what is complex( , )\n",
    "## "
   ]
  },
  {
   "cell_type": "code",
   "execution_count": 2,
   "id": "63f2b8bb",
   "metadata": {},
   "outputs": [
    {
     "data": {
      "text/plain": [
       "-1.0"
      ]
     },
     "execution_count": 2,
     "metadata": {},
     "output_type": "execute_result"
    }
   ],
   "source": [
    "comp1.imag"
   ]
  },
  {
   "cell_type": "code",
   "execution_count": 3,
   "id": "79870703",
   "metadata": {},
   "outputs": [
    {
     "data": {
      "text/plain": [
       "2.0"
      ]
     },
     "execution_count": 3,
     "metadata": {},
     "output_type": "execute_result"
    }
   ],
   "source": [
    "comp1.real"
   ]
  },
  {
   "cell_type": "code",
   "execution_count": 39,
   "id": "8a40b83e",
   "metadata": {},
   "outputs": [
    {
     "data": {
      "text/plain": [
       "(2-1j)"
      ]
     },
     "execution_count": 39,
     "metadata": {},
     "output_type": "execute_result"
    }
   ],
   "source": [
    "comp1"
   ]
  },
  {
   "cell_type": "markdown",
   "id": "ec0e8d3f",
   "metadata": {},
   "source": [
    "## 2.2 True or False"
   ]
  },
  {
   "cell_type": "code",
   "execution_count": 40,
   "id": "a1be737b",
   "metadata": {},
   "outputs": [
    {
     "data": {
      "text/plain": [
       "True"
      ]
     },
     "execution_count": 40,
     "metadata": {},
     "output_type": "execute_result"
    }
   ],
   "source": [
    "2 < 4"
   ]
  },
  {
   "cell_type": "code",
   "execution_count": 41,
   "id": "b5a71982",
   "metadata": {},
   "outputs": [
    {
     "data": {
      "text/plain": [
       "False"
      ]
     },
     "execution_count": 41,
     "metadata": {},
     "output_type": "execute_result"
    }
   ],
   "source": [
    "4 < 2"
   ]
  },
  {
   "cell_type": "code",
   "execution_count": 42,
   "id": "e8ca4eca",
   "metadata": {},
   "outputs": [
    {
     "data": {
      "text/plain": [
       "False"
      ]
     },
     "execution_count": 42,
     "metadata": {},
     "output_type": "execute_result"
    }
   ],
   "source": [
    "5 < 5"
   ]
  },
  {
   "cell_type": "code",
   "execution_count": 43,
   "id": "bbacc086",
   "metadata": {},
   "outputs": [
    {
     "data": {
      "text/plain": [
       "True"
      ]
     },
     "execution_count": 43,
     "metadata": {},
     "output_type": "execute_result"
    }
   ],
   "source": [
    "5 <=5"
   ]
  },
  {
   "cell_type": "code",
   "execution_count": 44,
   "id": "26e8ed81",
   "metadata": {},
   "outputs": [
    {
     "data": {
      "text/plain": [
       "True"
      ]
     },
     "execution_count": 44,
     "metadata": {},
     "output_type": "execute_result"
    }
   ],
   "source": [
    "2 < 4 and 4%2 == 0\n",
    "# True and True => True "
   ]
  },
  {
   "cell_type": "code",
   "execution_count": 46,
   "id": "9fb91234",
   "metadata": {
    "scrolled": true
   },
   "outputs": [
    {
     "data": {
      "text/plain": [
       "False"
      ]
     },
     "execution_count": 46,
     "metadata": {},
     "output_type": "execute_result"
    }
   ],
   "source": [
    "2 < 4 and 4%2 == 1\n",
    "# True and False => False"
   ]
  },
  {
   "cell_type": "code",
   "execution_count": 47,
   "id": "8f27be67",
   "metadata": {},
   "outputs": [
    {
     "data": {
      "text/plain": [
       "True"
      ]
     },
     "execution_count": 47,
     "metadata": {},
     "output_type": "execute_result"
    }
   ],
   "source": [
    "2 < 4 or 4%2 == 1\n",
    "# True or False => True"
   ]
  },
  {
   "cell_type": "code",
   "execution_count": 75,
   "id": "7e502596",
   "metadata": {},
   "outputs": [
    {
     "data": {
      "text/plain": [
       "False"
      ]
     },
     "execution_count": 75,
     "metadata": {},
     "output_type": "execute_result"
    }
   ],
   "source": [
    "## p ^ q is the same as (p or q) and not (p and q).\n",
    "\n",
    "(2<4)^(4%2==0)\n",
    "# T^T"
   ]
  },
  {
   "cell_type": "code",
   "execution_count": 5,
   "id": "7908d525",
   "metadata": {},
   "outputs": [
    {
     "data": {
      "text/plain": [
       "True"
      ]
     },
     "execution_count": 5,
     "metadata": {},
     "output_type": "execute_result"
    }
   ],
   "source": [
    "(2>4)^(4%2==0)\n",
    "# F^T"
   ]
  },
  {
   "cell_type": "code",
   "execution_count": 4,
   "id": "239b6cf3",
   "metadata": {},
   "outputs": [
    {
     "data": {
      "text/plain": [
       "True"
      ]
     },
     "execution_count": 4,
     "metadata": {},
     "output_type": "execute_result"
    }
   ],
   "source": [
    "(2<4)^(4%2==1)\n",
    "# T^F"
   ]
  },
  {
   "cell_type": "code",
   "execution_count": 84,
   "id": "ff47b6b9",
   "metadata": {},
   "outputs": [
    {
     "data": {
      "text/plain": [
       "1"
      ]
     },
     "execution_count": 84,
     "metadata": {},
     "output_type": "execute_result"
    }
   ],
   "source": [
    "4 ^ 5"
   ]
  },
  {
   "cell_type": "code",
   "execution_count": 78,
   "id": "6a618e71",
   "metadata": {},
   "outputs": [
    {
     "data": {
      "text/plain": [
       "2"
      ]
     },
     "execution_count": 78,
     "metadata": {},
     "output_type": "execute_result"
    }
   ],
   "source": [
    "4^6"
   ]
  },
  {
   "cell_type": "code",
   "execution_count": 79,
   "id": "47d3b275",
   "metadata": {},
   "outputs": [
    {
     "data": {
      "text/plain": [
       "3"
      ]
     },
     "execution_count": 79,
     "metadata": {},
     "output_type": "execute_result"
    }
   ],
   "source": [
    "4^7"
   ]
  },
  {
   "cell_type": "code",
   "execution_count": 82,
   "id": "94bff4d8",
   "metadata": {},
   "outputs": [
    {
     "data": {
      "text/plain": [
       "12"
      ]
     },
     "execution_count": 82,
     "metadata": {},
     "output_type": "execute_result"
    }
   ],
   "source": [
    "4^8"
   ]
  },
  {
   "cell_type": "code",
   "execution_count": 81,
   "id": "3e6cc254",
   "metadata": {},
   "outputs": [
    {
     "data": {
      "text/plain": [
       "13"
      ]
     },
     "execution_count": 81,
     "metadata": {},
     "output_type": "execute_result"
    }
   ],
   "source": [
    "4^9"
   ]
  },
  {
   "cell_type": "code",
   "execution_count": 83,
   "id": "34f51fae",
   "metadata": {},
   "outputs": [
    {
     "data": {
      "text/plain": [
       "7"
      ]
     },
     "execution_count": 83,
     "metadata": {},
     "output_type": "execute_result"
    }
   ],
   "source": [
    "3^4"
   ]
  },
  {
   "cell_type": "code",
   "execution_count": 69,
   "id": "5085b451",
   "metadata": {},
   "outputs": [
    {
     "data": {
      "text/plain": [
       "3"
      ]
     },
     "execution_count": 69,
     "metadata": {},
     "output_type": "execute_result"
    }
   ],
   "source": [
    "2 + True"
   ]
  },
  {
   "cell_type": "code",
   "execution_count": 70,
   "id": "af972aa5",
   "metadata": {},
   "outputs": [
    {
     "data": {
      "text/plain": [
       "0"
      ]
     },
     "execution_count": 70,
     "metadata": {},
     "output_type": "execute_result"
    }
   ],
   "source": [
    "5*False"
   ]
  },
  {
   "cell_type": "code",
   "execution_count": 71,
   "id": "bc7780cf",
   "metadata": {},
   "outputs": [
    {
     "data": {
      "text/plain": [
       "1"
      ]
     },
     "execution_count": 71,
     "metadata": {},
     "output_type": "execute_result"
    }
   ],
   "source": [
    "7**False"
   ]
  },
  {
   "cell_type": "code",
   "execution_count": 74,
   "id": "7da4b22a",
   "metadata": {},
   "outputs": [
    {
     "data": {
      "text/plain": [
       "2.718281828459045"
      ]
     },
     "execution_count": 74,
     "metadata": {},
     "output_type": "execute_result"
    }
   ],
   "source": [
    "from math import exp\n",
    "exp(True)"
   ]
  },
  {
   "cell_type": "markdown",
   "id": "05893285",
   "metadata": {},
   "source": [
    "## 2.3 Data structures"
   ]
  },
  {
   "cell_type": "markdown",
   "id": "c41cb49d",
   "metadata": {},
   "source": [
    "### string"
   ]
  },
  {
   "cell_type": "code",
   "execution_count": 7,
   "id": "f972aa6a",
   "metadata": {},
   "outputs": [],
   "source": [
    "string1 = 'python makes me feel dumb'"
   ]
  },
  {
   "cell_type": "code",
   "execution_count": 54,
   "id": "0f557807",
   "metadata": {},
   "outputs": [],
   "source": [
    "string2 = 'stuck with admiration'"
   ]
  },
  {
   "cell_type": "code",
   "execution_count": 55,
   "id": "e296708c",
   "metadata": {},
   "outputs": [
    {
     "data": {
      "text/plain": [
       "'python makes me feel dumbstuck with admiration'"
      ]
     },
     "execution_count": 55,
     "metadata": {},
     "output_type": "execute_result"
    }
   ],
   "source": [
    "string1+string2"
   ]
  },
  {
   "cell_type": "code",
   "execution_count": 58,
   "id": "c8c431df",
   "metadata": {},
   "outputs": [
    {
     "data": {
      "text/plain": [
       "'python makes me feel dumbpython makes me feel dumbpython makes me feel dumb'"
      ]
     },
     "execution_count": 58,
     "metadata": {},
     "output_type": "execute_result"
    }
   ],
   "source": [
    "3*string1"
   ]
  },
  {
   "cell_type": "code",
   "execution_count": 59,
   "id": "3bdb7a2b",
   "metadata": {},
   "outputs": [
    {
     "data": {
      "text/plain": [
       "'python makes me feel dumb stuck with admiration'"
      ]
     },
     "execution_count": 59,
     "metadata": {},
     "output_type": "execute_result"
    }
   ],
   "source": [
    "string1+' '+string2\n",
    "# space ' ' (2개)"
   ]
  },
  {
   "cell_type": "code",
   "execution_count": 60,
   "id": "4e88aeda",
   "metadata": {},
   "outputs": [],
   "source": [
    "string3 = \": I 'really mean' that!\""
   ]
  },
  {
   "cell_type": "code",
   "execution_count": 61,
   "id": "b151993f",
   "metadata": {},
   "outputs": [
    {
     "data": {
      "text/plain": [
       "\"python makes me feel dumbstuck with admiration: I 'really mean' that!\""
      ]
     },
     "execution_count": 61,
     "metadata": {},
     "output_type": "execute_result"
    }
   ],
   "source": [
    "string1 + string2 + string3"
   ]
  },
  {
   "cell_type": "code",
   "execution_count": 63,
   "id": "5d4b19c7",
   "metadata": {},
   "outputs": [
    {
     "data": {
      "text/plain": [
       "'y'"
      ]
     },
     "execution_count": 63,
     "metadata": {},
     "output_type": "execute_result"
    }
   ],
   "source": [
    "string1[1] \n",
    "# 글자수 count 'indexing': forward starts from 0 \n"
   ]
  },
  {
   "cell_type": "code",
   "execution_count": 65,
   "id": "bcf0b02b",
   "metadata": {},
   "outputs": [
    {
     "data": {
      "text/plain": [
       "'python'"
      ]
     },
     "execution_count": 65,
     "metadata": {},
     "output_type": "execute_result"
    }
   ],
   "source": [
    "string1[0:6]\n",
    "# 1 space after pyhton"
   ]
  },
  {
   "cell_type": "code",
   "execution_count": 66,
   "id": "bf3a548b",
   "metadata": {},
   "outputs": [
    {
     "data": {
      "text/plain": [
       "'pto a'"
      ]
     },
     "execution_count": 66,
     "metadata": {},
     "output_type": "execute_result"
    }
   ],
   "source": [
    "string1[0:10:2]\n",
    "# index 0에서 10, 2개씩 증가"
   ]
  },
  {
   "cell_type": "code",
   "execution_count": 67,
   "id": "9b56b8af",
   "metadata": {},
   "outputs": [
    {
     "data": {
      "text/plain": [
       "25"
      ]
     },
     "execution_count": 67,
     "metadata": {},
     "output_type": "execute_result"
    }
   ],
   "source": [
    "len(string1)\n",
    "# length of string1"
   ]
  },
  {
   "cell_type": "code",
   "execution_count": 13,
   "id": "f517337b",
   "metadata": {},
   "outputs": [
    {
     "name": "stdout",
     "output_type": "stream",
     "text": [
      "['python mak', 's m', ' f', '', 'l dumb']\n"
     ]
    }
   ],
   "source": [
    "splitstrings = string1.split(\"e\")\n",
    "print(splitstrings)\n",
    "# e를 기준으로 split => e가 소멸이 됨"
   ]
  },
  {
   "cell_type": "code",
   "execution_count": 15,
   "id": "36786899",
   "metadata": {},
   "outputs": [
    {
     "data": {
      "text/plain": [
       "'python makes me feel dumb'"
      ]
     },
     "execution_count": 15,
     "metadata": {},
     "output_type": "execute_result"
    }
   ],
   "source": [
    "'e'.join(splitstrings)\n",
    "#e를 다시 붙임"
   ]
  },
  {
   "cell_type": "code",
   "execution_count": 9,
   "id": "398d0f7e",
   "metadata": {},
   "outputs": [
    {
     "data": {
      "text/plain": [
       "['python', 'makes', 'me', 'feel', 'dumb']"
      ]
     },
     "execution_count": 9,
     "metadata": {},
     "output_type": "execute_result"
    }
   ],
   "source": [
    "string1.split(' ')\n",
    "# space를 기준으로 split\n",
    "# split is method "
   ]
  },
  {
   "cell_type": "code",
   "execution_count": 75,
   "id": "f6dc8040",
   "metadata": {},
   "outputs": [
    {
     "data": {
      "text/plain": [
       "'python makes me feel smart'"
      ]
     },
     "execution_count": 75,
     "metadata": {},
     "output_type": "execute_result"
    }
   ],
   "source": [
    "string1.replace('dumb', 'smart')"
   ]
  },
  {
   "cell_type": "code",
   "execution_count": 18,
   "id": "bea83697",
   "metadata": {},
   "outputs": [
    {
     "data": {
      "text/plain": [
       "'python makes me feel dumb'"
      ]
     },
     "execution_count": 18,
     "metadata": {},
     "output_type": "execute_result"
    }
   ],
   "source": [
    "string1.lower() # all letters to lower case"
   ]
  },
  {
   "cell_type": "code",
   "execution_count": 19,
   "id": "955abe9a",
   "metadata": {},
   "outputs": [
    {
     "data": {
      "text/plain": [
       "'PYTHON MAKES ME FEEL DUMB'"
      ]
     },
     "execution_count": 19,
     "metadata": {},
     "output_type": "execute_result"
    }
   ],
   "source": [
    "string1.upper() # all letters to upper case"
   ]
  },
  {
   "cell_type": "markdown",
   "id": "ba37cb8b",
   "metadata": {},
   "source": [
    "### .format"
   ]
  },
  {
   "cell_type": "code",
   "execution_count": 78,
   "id": "b9166d14",
   "metadata": {},
   "outputs": [],
   "source": [
    "template = 'The radius of {} is {} metres'\n",
    "# using template.format( , ) => we are going to type values in {}"
   ]
  },
  {
   "cell_type": "code",
   "execution_count": 79,
   "id": "a1595fc1",
   "metadata": {},
   "outputs": [
    {
     "data": {
      "text/plain": [
       "'The radius of Jupiter is 69911000 metres'"
      ]
     },
     "execution_count": 79,
     "metadata": {},
     "output_type": "execute_result"
    }
   ],
   "source": [
    "template.format('Jupiter','69911000')"
   ]
  },
  {
   "cell_type": "code",
   "execution_count": 20,
   "id": "943dbe21",
   "metadata": {},
   "outputs": [
    {
     "data": {
      "text/plain": [
       "'The maximum of 87, 17 and 53 is 87'"
      ]
     },
     "execution_count": 20,
     "metadata": {},
     "output_type": "execute_result"
    }
   ],
   "source": [
    "from random import randint\n",
    "a = randint(1,100)\n",
    "b = randint(1,100)\n",
    "c = randint(1,100)\n",
    "\n",
    "'The maximum of {}, {} and {} is {}'.format(a,b,c,max(a,b,c))"
   ]
  },
  {
   "cell_type": "markdown",
   "id": "e5da6ab1",
   "metadata": {},
   "source": [
    "### f-string ( . format보다 fancy한 방법)"
   ]
  },
  {
   "cell_type": "code",
   "execution_count": 21,
   "id": "f646cdce",
   "metadata": {},
   "outputs": [
    {
     "data": {
      "text/plain": [
       "'The maximum of 75,50,and 66 is 75.'"
      ]
     },
     "execution_count": 21,
     "metadata": {},
     "output_type": "execute_result"
    }
   ],
   "source": [
    "from random import randint\n",
    "a = randint(1,100)\n",
    "b = randint(1,100)\n",
    "c = randint(1,100)\n",
    "\n",
    "f'The maximum of {a},{b},and {c} is {max(a,b,c)}.'"
   ]
  },
  {
   "cell_type": "markdown",
   "id": "b1dc6e0a",
   "metadata": {},
   "source": [
    "### List"
   ]
  },
  {
   "cell_type": "code",
   "execution_count": 37,
   "id": "61abdedc",
   "metadata": {},
   "outputs": [],
   "source": [
    "list1=[1,2,3,4,5]\n",
    "list2=['one', 'two', 'three', 'four', 'five']\n",
    "list3=list1+list2"
   ]
  },
  {
   "cell_type": "code",
   "execution_count": 38,
   "id": "fd80e9ba",
   "metadata": {},
   "outputs": [
    {
     "data": {
      "text/plain": [
       "[1, 2, 3, 4, 5, 'one', 'two', 'three', 'four', 'five']"
      ]
     },
     "execution_count": 38,
     "metadata": {},
     "output_type": "execute_result"
    }
   ],
   "source": [
    "list3"
   ]
  },
  {
   "cell_type": "code",
   "execution_count": 39,
   "id": "fb5e1c6a",
   "metadata": {},
   "outputs": [
    {
     "data": {
      "text/plain": [
       "[[1, 2, 3, 4, 5],\n",
       " ['one', 'two', 'three', 'four', 'five'],\n",
       " [1, 2, 3, 4, 5, 'one', 'two', 'three', 'four', 'five']]"
      ]
     },
     "execution_count": 39,
     "metadata": {},
     "output_type": "execute_result"
    }
   ],
   "source": [
    "list4=[list1,list2, list3]\n",
    "list4"
   ]
  },
  {
   "cell_type": "code",
   "execution_count": 40,
   "id": "dc7c05d1",
   "metadata": {},
   "outputs": [
    {
     "data": {
      "text/plain": [
       "[1, 2, 3, 4, 5, 'one', 'two']"
      ]
     },
     "execution_count": 40,
     "metadata": {},
     "output_type": "execute_result"
    }
   ],
   "source": [
    "list3[0:7]"
   ]
  },
  {
   "cell_type": "code",
   "execution_count": 41,
   "id": "ab4e3c0f",
   "metadata": {},
   "outputs": [
    {
     "data": {
      "text/plain": [
       "[1, 3, 5, 'two']"
      ]
     },
     "execution_count": 41,
     "metadata": {},
     "output_type": "execute_result"
    }
   ],
   "source": [
    "list3[0:7:2]"
   ]
  },
  {
   "cell_type": "code",
   "execution_count": 42,
   "id": "bbeb16a4",
   "metadata": {},
   "outputs": [
    {
     "data": {
      "text/plain": [
       "[1, 2, 3, 4, 5, 'six']"
      ]
     },
     "execution_count": 42,
     "metadata": {},
     "output_type": "execute_result"
    }
   ],
   "source": [
    "list1.append('six')\n",
    "list1"
   ]
  },
  {
   "cell_type": "code",
   "execution_count": 43,
   "id": "f5f450ae",
   "metadata": {},
   "outputs": [],
   "source": [
    "list5=list(range(6))"
   ]
  },
  {
   "cell_type": "code",
   "execution_count": 44,
   "id": "a159a51b",
   "metadata": {},
   "outputs": [
    {
     "data": {
      "text/plain": [
       "[0, 1, 2, 3, 4, 5]"
      ]
     },
     "execution_count": 44,
     "metadata": {},
     "output_type": "execute_result"
    }
   ],
   "source": [
    "list5"
   ]
  },
  {
   "cell_type": "markdown",
   "id": "dae92f55",
   "metadata": {},
   "source": [
    "## 2.3.3 Tuples and immutability"
   ]
  },
  {
   "cell_type": "code",
   "execution_count": 85,
   "id": "29b25635",
   "metadata": {},
   "outputs": [
    {
     "name": "stdout",
     "output_type": "stream",
     "text": [
      "[0, 'one', 2.0, (3+0j), 'IV']\n"
     ]
    }
   ],
   "source": [
    "list1 = [0,'one', 2.0,(3+0j), 'IV']\n",
    "tuple1 = (0,'one', 2.0,(3+0j), 'IV')\n",
    "print(list1)"
   ]
  },
  {
   "cell_type": "code",
   "execution_count": 50,
   "id": "4b2347ef",
   "metadata": {},
   "outputs": [
    {
     "data": {
      "text/plain": [
       "[0, 'one', 2.0, (3+0j), 'IV', 'cinq']"
      ]
     },
     "execution_count": 50,
     "metadata": {},
     "output_type": "execute_result"
    }
   ],
   "source": [
    "list1.append('cinq')\n",
    "list1"
   ]
  },
  {
   "cell_type": "code",
   "execution_count": 51,
   "id": "5a07e1bd",
   "metadata": {},
   "outputs": [
    {
     "ename": "AttributeError",
     "evalue": "'tuple' object has no attribute 'append'",
     "output_type": "error",
     "traceback": [
      "\u001b[0;31m---------------------------------------------------------------------------\u001b[0m",
      "\u001b[0;31mAttributeError\u001b[0m                            Traceback (most recent call last)",
      "\u001b[0;32m/var/folders/jc/40p27jw150s9901t60pghgkh0000gn/T/ipykernel_2675/2315963005.py\u001b[0m in \u001b[0;36m<module>\u001b[0;34m\u001b[0m\n\u001b[0;32m----> 1\u001b[0;31m \u001b[0mtuple1\u001b[0m\u001b[0;34m.\u001b[0m\u001b[0mappend\u001b[0m\u001b[0;34m(\u001b[0m\u001b[0;34m'cinq'\u001b[0m\u001b[0;34m)\u001b[0m\u001b[0;34m\u001b[0m\u001b[0;34m\u001b[0m\u001b[0m\n\u001b[0m\u001b[1;32m      2\u001b[0m \u001b[0mtuple1\u001b[0m\u001b[0;34m\u001b[0m\u001b[0;34m\u001b[0m\u001b[0m\n",
      "\u001b[0;31mAttributeError\u001b[0m: 'tuple' object has no attribute 'append'"
     ]
    }
   ],
   "source": [
    "tuple1.append('cinq')\n",
    "tuple1"
   ]
  },
  {
   "cell_type": "code",
   "execution_count": 54,
   "id": "796171d2",
   "metadata": {},
   "outputs": [
    {
     "name": "stdout",
     "output_type": "stream",
     "text": [
      "(0, 'one', 2.0, (3+0j), 'IV', 'cinq')\n"
     ]
    }
   ],
   "source": [
    "# Method 1 for appending\n",
    "tuple1 = tuple1 + ('cinq',) # add , behind the word so that we can append\n",
    "print(tuple1)"
   ]
  },
  {
   "cell_type": "code",
   "execution_count": 55,
   "id": "b6acfd94",
   "metadata": {},
   "outputs": [
    {
     "data": {
      "text/plain": [
       "['happy', 1, 'IV', (3+2j)]"
      ]
     },
     "execution_count": 55,
     "metadata": {},
     "output_type": "execute_result"
    }
   ],
   "source": [
    "# Method 2 for appending (changing tuple into list)\n",
    "tuple2 = ('happy', 1, 'IV', (3+2j))\n",
    "list_tuple2=list(tuple2)\n",
    "list_tuple2"
   ]
  },
  {
   "cell_type": "code",
   "execution_count": 58,
   "id": "65811f88",
   "metadata": {},
   "outputs": [
    {
     "data": {
      "text/plain": [
       "['happy', 1, 'IV', (3+2j), 'cinq', 'cinq', 'cinq']"
      ]
     },
     "execution_count": 58,
     "metadata": {},
     "output_type": "execute_result"
    }
   ],
   "source": [
    "list_tuple2.append('cinq')\n",
    "list_tuple2"
   ]
  },
  {
   "cell_type": "code",
   "execution_count": 60,
   "id": "c4f2b39e",
   "metadata": {},
   "outputs": [
    {
     "name": "stdout",
     "output_type": "stream",
     "text": [
      "[0, 'one', 2.0, (3+0j), 'IV', 'vijf']\n"
     ]
    }
   ],
   "source": [
    "list1 #6번째 element cinq -> vijf\n",
    "list1[5]='vijf'\n",
    "print(list1)"
   ]
  },
  {
   "cell_type": "code",
   "execution_count": 61,
   "id": "e9e78db2",
   "metadata": {},
   "outputs": [
    {
     "ename": "TypeError",
     "evalue": "'tuple' object does not support item assignment",
     "output_type": "error",
     "traceback": [
      "\u001b[0;31m---------------------------------------------------------------------------\u001b[0m",
      "\u001b[0;31mTypeError\u001b[0m                                 Traceback (most recent call last)",
      "\u001b[0;32m/var/folders/jc/40p27jw150s9901t60pghgkh0000gn/T/ipykernel_2675/1254734552.py\u001b[0m in \u001b[0;36m<module>\u001b[0;34m\u001b[0m\n\u001b[0;32m----> 1\u001b[0;31m \u001b[0mtuple1\u001b[0m\u001b[0;34m[\u001b[0m\u001b[0;36m5\u001b[0m\u001b[0;34m]\u001b[0m  \u001b[0;34m=\u001b[0m \u001b[0;34m'vijf'\u001b[0m\u001b[0;34m\u001b[0m\u001b[0;34m\u001b[0m\u001b[0m\n\u001b[0m\u001b[1;32m      2\u001b[0m \u001b[0mprint\u001b[0m\u001b[0;34m(\u001b[0m\u001b[0mtuple1\u001b[0m\u001b[0;34m)\u001b[0m\u001b[0;34m\u001b[0m\u001b[0;34m\u001b[0m\u001b[0m\n",
      "\u001b[0;31mTypeError\u001b[0m: 'tuple' object does not support item assignment"
     ]
    }
   ],
   "source": [
    "tuple1[5]  = 'vijf'\n",
    "print(tuple1)"
   ]
  },
  {
   "cell_type": "markdown",
   "id": "77c08ec1",
   "metadata": {},
   "source": [
    "## 2.4 zip function"
   ]
  },
  {
   "cell_type": "code",
   "execution_count": 64,
   "id": "95b02d3f",
   "metadata": {},
   "outputs": [
    {
     "name": "stdout",
     "output_type": "stream",
     "text": [
      "<zip object at 0x7fc16406ae00>\n"
     ]
    }
   ],
   "source": [
    "xvals = list(range(6))\n",
    "yvals = (0,1,4,9,25)\n",
    "combined = zip(xvals, yvals)\n",
    "print(combined)"
   ]
  },
  {
   "cell_type": "code",
   "execution_count": 65,
   "id": "e1aa71e6",
   "metadata": {},
   "outputs": [
    {
     "name": "stdout",
     "output_type": "stream",
     "text": [
      "[(0, 0), (1, 1), (2, 4), (3, 9), (4, 25)]\n"
     ]
    }
   ],
   "source": [
    "print(list(combined))"
   ]
  }
 ],
 "metadata": {
  "kernelspec": {
   "display_name": "Python 3 (ipykernel)",
   "language": "python",
   "name": "python3"
  },
  "language_info": {
   "codemirror_mode": {
    "name": "ipython",
    "version": 3
   },
   "file_extension": ".py",
   "mimetype": "text/x-python",
   "name": "python",
   "nbconvert_exporter": "python",
   "pygments_lexer": "ipython3",
   "version": "3.9.13"
  }
 },
 "nbformat": 4,
 "nbformat_minor": 5
}
